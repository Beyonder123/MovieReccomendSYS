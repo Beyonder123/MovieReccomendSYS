{
  "nbformat": 4,
  "nbformat_minor": 0,
  "metadata": {
    "colab": {
      "provenance": [],
      "authorship_tag": "ABX9TyPvJCT2qxLHFxPrWAfnjVE0",
      "include_colab_link": true
    },
    "kernelspec": {
      "name": "python3",
      "display_name": "Python 3"
    },
    "language_info": {
      "name": "python"
    }
  },
  "cells": [
    {
      "cell_type": "markdown",
      "metadata": {
        "id": "view-in-github",
        "colab_type": "text"
      },
      "source": [
        "<a href=\"https://colab.research.google.com/github/Beyonder123/MovieReccomendSYS/blob/main/MovieReccomendSYS.ipynb\" target=\"_parent\"><img src=\"https://colab.research.google.com/assets/colab-badge.svg\" alt=\"Open In Colab\"/></a>"
      ]
    },
    {
      "cell_type": "code",
      "source": [
        "# Step 0: Install the necessary library\n",
        "!pip install fuzzywuzzy[speedup]"
      ],
      "metadata": {
        "colab": {
          "base_uri": "https://localhost:8080/"
        },
        "collapsed": true,
        "id": "A_9v5BXIT_OX",
        "outputId": "618059e8-95c8-41f4-cbef-0f6684691cb4"
      },
      "execution_count": 3,
      "outputs": [
        {
          "output_type": "stream",
          "name": "stdout",
          "text": [
            "Requirement already satisfied: fuzzywuzzy[speedup] in /usr/local/lib/python3.10/dist-packages (0.18.0)\n",
            "Requirement already satisfied: python-levenshtein>=0.12 in /usr/local/lib/python3.10/dist-packages (from fuzzywuzzy[speedup]) (0.26.0)\n",
            "Requirement already satisfied: Levenshtein==0.26.0 in /usr/local/lib/python3.10/dist-packages (from python-levenshtein>=0.12->fuzzywuzzy[speedup]) (0.26.0)\n",
            "Requirement already satisfied: rapidfuzz<4.0.0,>=3.9.0 in /usr/local/lib/python3.10/dist-packages (from Levenshtein==0.26.0->python-levenshtein>=0.12->fuzzywuzzy[speedup]) (3.10.0)\n"
          ]
        }
      ]
    },
    {
      "cell_type": "code",
      "source": [
        "import pandas as pd\n",
        "import numpy as np\n",
        "from sklearn.neighbors import NearestNeighbors\n",
        "from fuzzywuzzy import process\n",
        "from scipy.sparse import csr_matrix\n",
        "\n",
        "!wget http://files.grouplens.org/datasets/movielens/ml-latest-small.zip\n",
        "!unzip ml-latest-small.zip\n",
        "\n",
        "movies = pd.read_csv('ml-latest-small/movies.csv')\n",
        "ratings = pd.read_csv('ml-latest-small/ratings.csv')\n",
        "\n",
        "# User-Movie Matrix\n",
        "user_movie_matrix = ratings.pivot(index='movieId', columns='userId', values='rating')\n",
        "user_movie_matrix_filled = user_movie_matrix.fillna(0)\n",
        "\n",
        "matrix_sparse = csr_matrix(user_movie_matrix_filled.values)\n",
        "\n",
        "# KNN model\n",
        "cf_knn_model = NearestNeighbors(metric='cosine', algorithm='brute')\n",
        "cf_knn_model.fit(matrix_sparse)\n",
        "\n",
        "def movie_recommender_engine(movie_name, matrix, cf_model, no_of_records):\n",
        "    cf_model.fit(matrix)\n",
        "    movie_id = process.extractOne(movie_name, movies['title'])[2]\n",
        "\n",
        "    distances, indices = cf_model.kneighbors(matrix[movie_id], n_neighbors=no_of_records)\n",
        "\n",
        "    movie_rec_ids = sorted(list(zip(indices.squeeze().tolist(), distances.squeeze().tolist())), key=lambda x: x[1])[:0:-1]\n",
        "\n",
        "    cf_recs = []\n",
        "    for i in movie_rec_ids:\n",
        "        cf_recs.append({'Title': movies['title'][i[0]], 'Distance': i[1]})\n",
        "\n",
        "    df = pd.DataFrame(cf_recs, index=range(1, no_of_records))\n",
        "    return df\n",
        "\n",
        "no_of_records = 5\n",
        "matrix = matrix_sparse\n",
        "movie_name = \"Jurassic Park\"\n",
        "recommendations = movie_recommender_engine(movie_name, matrix, cf_knn_model,no_of_records)\n",
        "\n",
        "print(f\"Recommendations for '{movie_name}':\\n\", recommendations)\n"
      ],
      "metadata": {
        "colab": {
          "base_uri": "https://localhost:8080/"
        },
        "id": "TEzY9GxESCbP",
        "outputId": "730f5356-421b-47c7-8148-5d9a94ecaf6f"
      },
      "execution_count": 6,
      "outputs": [
        {
          "output_type": "stream",
          "name": "stdout",
          "text": [
            "--2024-09-28 15:52:37--  http://files.grouplens.org/datasets/movielens/ml-latest-small.zip\n",
            "Resolving files.grouplens.org (files.grouplens.org)... 128.101.65.152\n",
            "Connecting to files.grouplens.org (files.grouplens.org)|128.101.65.152|:80... connected.\n",
            "HTTP request sent, awaiting response... 200 OK\n",
            "Length: 978202 (955K) [application/zip]\n",
            "Saving to: ‘ml-latest-small.zip.3’\n",
            "\n",
            "ml-latest-small.zip 100%[===================>] 955.28K  3.18MB/s    in 0.3s    \n",
            "\n",
            "2024-09-28 15:52:38 (3.18 MB/s) - ‘ml-latest-small.zip.3’ saved [978202/978202]\n",
            "\n",
            "Archive:  ml-latest-small.zip\n",
            "replace ml-latest-small/links.csv? [y]es, [n]o, [A]ll, [N]one, [r]ename: y\n",
            "  inflating: ml-latest-small/links.csv  \n",
            "replace ml-latest-small/tags.csv? [y]es, [n]o, [A]ll, [N]one, [r]ename: y\n",
            "  inflating: ml-latest-small/tags.csv  \n",
            "replace ml-latest-small/ratings.csv? [y]es, [n]o, [A]ll, [N]one, [r]ename: y\n",
            "  inflating: ml-latest-small/ratings.csv  \n",
            "replace ml-latest-small/README.txt? [y]es, [n]o, [A]ll, [N]one, [r]ename: y\n",
            "  inflating: ml-latest-small/README.txt  \n",
            "replace ml-latest-small/movies.csv? [y]es, [n]o, [A]ll, [N]one, [r]ename: y\n",
            "  inflating: ml-latest-small/movies.csv  \n",
            "Recommendations for 'Jurassic Park':\n",
            "                                Title  Distance\n",
            "1               Fugitive, The (1993)  0.331196\n",
            "2                  Braveheart (1995)  0.330546\n",
            "3                Forrest Gump (1994)  0.311741\n",
            "4  Terminator 2: Judgment Day (1991)  0.280017\n"
          ]
        }
      ]
    }
  ]
}